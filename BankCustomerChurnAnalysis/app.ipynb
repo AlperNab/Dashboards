{
 "cells": [
  {
   "cell_type": "code",
   "execution_count": 1,
   "id": "3190b858-0a52-4b8e-83d8-bc4a97e6b5a1",
   "metadata": {},
   "outputs": [],
   "source": [
    "import dash\n",
    "from dash import dcc,html,Dash\n",
    "from dash import dash_table\n",
    "from dash.dependencies import Input, Output\n",
    "import plotly.express as px\n",
    "import plotly.graph_objects as go   \n",
    "import pandas as pd\n",
    "import numpy as np\n",
    "import dash_pivottable\n",
    "import dash_bootstrap_components as dbc\n",
    "import dash\n",
    "import base64\n",
    "import datetime\n",
    "import io\n",
    "from sklearn.preprocessing import OneHotEncoder\n",
    "from sklearn.preprocessing import MinMaxScaler\n",
    "from sklearn.model_selection import train_test_split\n",
    "from sklearn.metrics import classification_report,confusion_matrix\n",
    "from sklearn.neighbors import KNeighborsClassifier\n",
    "from sklearn.linear_model import LogisticRegression\n",
    "from sklearn.tree import DecisionTreeClassifier\n",
    "from sklearn.ensemble import GradientBoostingClassifier\n",
    "from xgboost import XGBClassifier\n",
    "from sklearn.ensemble import HistGradientBoostingClassifier\n",
    "from catboost import CatBoostClassifier\n",
    "from sklearn.svm import SVC\n",
    "from sklearn import tree\n",
    "from sklearn.tree import export_graphviz\n",
    "from graphviz import Source\n",
    "import pickle\n",
    "import cloudpickle\n",
    "\n",
    "\n",
    "df=pd.read_csv('Bank_Churn_Modelling.csv')"
   ]
  },
  {
   "cell_type": "code",
   "execution_count": 2,
   "id": "f303b606-2780-48f7-9ecd-e311a03c13e1",
   "metadata": {},
   "outputs": [
    {
     "data": {
      "text/html": [
       "<div>\n",
       "<style scoped>\n",
       "    .dataframe tbody tr th:only-of-type {\n",
       "        vertical-align: middle;\n",
       "    }\n",
       "\n",
       "    .dataframe tbody tr th {\n",
       "        vertical-align: top;\n",
       "    }\n",
       "\n",
       "    .dataframe thead th {\n",
       "        text-align: right;\n",
       "    }\n",
       "</style>\n",
       "<table border=\"1\" class=\"dataframe\">\n",
       "  <thead>\n",
       "    <tr style=\"text-align: right;\">\n",
       "      <th></th>\n",
       "      <th>RowNumber</th>\n",
       "      <th>CustomerId</th>\n",
       "      <th>Surname</th>\n",
       "      <th>CreditScore</th>\n",
       "      <th>Geography</th>\n",
       "      <th>Gender</th>\n",
       "      <th>Age</th>\n",
       "      <th>Tenure</th>\n",
       "      <th>Balance</th>\n",
       "      <th>NumOfProducts</th>\n",
       "      <th>HasCrCard</th>\n",
       "      <th>IsActiveMember</th>\n",
       "      <th>EstimatedSalary</th>\n",
       "      <th>Exited</th>\n",
       "    </tr>\n",
       "  </thead>\n",
       "  <tbody>\n",
       "    <tr>\n",
       "      <th>0</th>\n",
       "      <td>1</td>\n",
       "      <td>15634602</td>\n",
       "      <td>Hargrave</td>\n",
       "      <td>619</td>\n",
       "      <td>France</td>\n",
       "      <td>Female</td>\n",
       "      <td>42</td>\n",
       "      <td>2</td>\n",
       "      <td>0.00</td>\n",
       "      <td>1</td>\n",
       "      <td>1</td>\n",
       "      <td>1</td>\n",
       "      <td>101348.88</td>\n",
       "      <td>1</td>\n",
       "    </tr>\n",
       "    <tr>\n",
       "      <th>1</th>\n",
       "      <td>2</td>\n",
       "      <td>15647311</td>\n",
       "      <td>Hill</td>\n",
       "      <td>608</td>\n",
       "      <td>Spain</td>\n",
       "      <td>Female</td>\n",
       "      <td>41</td>\n",
       "      <td>1</td>\n",
       "      <td>83807.86</td>\n",
       "      <td>1</td>\n",
       "      <td>0</td>\n",
       "      <td>1</td>\n",
       "      <td>112542.58</td>\n",
       "      <td>0</td>\n",
       "    </tr>\n",
       "    <tr>\n",
       "      <th>2</th>\n",
       "      <td>3</td>\n",
       "      <td>15619304</td>\n",
       "      <td>Onio</td>\n",
       "      <td>502</td>\n",
       "      <td>France</td>\n",
       "      <td>Female</td>\n",
       "      <td>42</td>\n",
       "      <td>8</td>\n",
       "      <td>159660.80</td>\n",
       "      <td>3</td>\n",
       "      <td>1</td>\n",
       "      <td>0</td>\n",
       "      <td>113931.57</td>\n",
       "      <td>1</td>\n",
       "    </tr>\n",
       "    <tr>\n",
       "      <th>3</th>\n",
       "      <td>4</td>\n",
       "      <td>15701354</td>\n",
       "      <td>Boni</td>\n",
       "      <td>699</td>\n",
       "      <td>France</td>\n",
       "      <td>Female</td>\n",
       "      <td>39</td>\n",
       "      <td>1</td>\n",
       "      <td>0.00</td>\n",
       "      <td>2</td>\n",
       "      <td>0</td>\n",
       "      <td>0</td>\n",
       "      <td>93826.63</td>\n",
       "      <td>0</td>\n",
       "    </tr>\n",
       "    <tr>\n",
       "      <th>4</th>\n",
       "      <td>5</td>\n",
       "      <td>15737888</td>\n",
       "      <td>Mitchell</td>\n",
       "      <td>850</td>\n",
       "      <td>Spain</td>\n",
       "      <td>Female</td>\n",
       "      <td>43</td>\n",
       "      <td>2</td>\n",
       "      <td>125510.82</td>\n",
       "      <td>1</td>\n",
       "      <td>1</td>\n",
       "      <td>1</td>\n",
       "      <td>79084.10</td>\n",
       "      <td>0</td>\n",
       "    </tr>\n",
       "  </tbody>\n",
       "</table>\n",
       "</div>"
      ],
      "text/plain": [
       "   RowNumber  CustomerId   Surname  CreditScore Geography  Gender  Age  \\\n",
       "0          1    15634602  Hargrave          619    France  Female   42   \n",
       "1          2    15647311      Hill          608     Spain  Female   41   \n",
       "2          3    15619304      Onio          502    France  Female   42   \n",
       "3          4    15701354      Boni          699    France  Female   39   \n",
       "4          5    15737888  Mitchell          850     Spain  Female   43   \n",
       "\n",
       "   Tenure    Balance  NumOfProducts  HasCrCard  IsActiveMember  \\\n",
       "0       2       0.00              1          1               1   \n",
       "1       1   83807.86              1          0               1   \n",
       "2       8  159660.80              3          1               0   \n",
       "3       1       0.00              2          0               0   \n",
       "4       2  125510.82              1          1               1   \n",
       "\n",
       "   EstimatedSalary  Exited  \n",
       "0        101348.88       1  \n",
       "1        112542.58       0  \n",
       "2        113931.57       1  \n",
       "3         93826.63       0  \n",
       "4         79084.10       0  "
      ]
     },
     "execution_count": 2,
     "metadata": {},
     "output_type": "execute_result"
    }
   ],
   "source": [
    "df.head()"
   ]
  },
  {
   "cell_type": "code",
   "execution_count": 39,
   "id": "087449c7-8b5c-4bdc-ab62-0311eecd1edf",
   "metadata": {},
   "outputs": [],
   "source": [
    "df.drop(['RowNumber','CustomerId'], axis=1, inplace=True)"
   ]
  },
  {
   "cell_type": "code",
   "execution_count": 40,
   "id": "7b33f787-a4c2-44f9-acf1-e147213fb024",
   "metadata": {},
   "outputs": [
    {
     "data": {
      "text/html": [
       "<div>\n",
       "<style scoped>\n",
       "    .dataframe tbody tr th:only-of-type {\n",
       "        vertical-align: middle;\n",
       "    }\n",
       "\n",
       "    .dataframe tbody tr th {\n",
       "        vertical-align: top;\n",
       "    }\n",
       "\n",
       "    .dataframe thead th {\n",
       "        text-align: right;\n",
       "    }\n",
       "</style>\n",
       "<table border=\"1\" class=\"dataframe\">\n",
       "  <thead>\n",
       "    <tr style=\"text-align: right;\">\n",
       "      <th></th>\n",
       "      <th>Surname</th>\n",
       "      <th>CreditScore</th>\n",
       "      <th>Geography</th>\n",
       "      <th>Gender</th>\n",
       "      <th>Age</th>\n",
       "      <th>Tenure</th>\n",
       "      <th>Balance</th>\n",
       "      <th>NumOfProducts</th>\n",
       "      <th>HasCrCard</th>\n",
       "      <th>IsActiveMember</th>\n",
       "      <th>EstimatedSalary</th>\n",
       "      <th>Exited</th>\n",
       "    </tr>\n",
       "  </thead>\n",
       "  <tbody>\n",
       "    <tr>\n",
       "      <th>0</th>\n",
       "      <td>Hargrave</td>\n",
       "      <td>619</td>\n",
       "      <td>France</td>\n",
       "      <td>Female</td>\n",
       "      <td>42</td>\n",
       "      <td>2</td>\n",
       "      <td>0.00</td>\n",
       "      <td>1</td>\n",
       "      <td>1</td>\n",
       "      <td>1</td>\n",
       "      <td>101348.88</td>\n",
       "      <td>1</td>\n",
       "    </tr>\n",
       "    <tr>\n",
       "      <th>1</th>\n",
       "      <td>Hill</td>\n",
       "      <td>608</td>\n",
       "      <td>Spain</td>\n",
       "      <td>Female</td>\n",
       "      <td>41</td>\n",
       "      <td>1</td>\n",
       "      <td>83807.86</td>\n",
       "      <td>1</td>\n",
       "      <td>0</td>\n",
       "      <td>1</td>\n",
       "      <td>112542.58</td>\n",
       "      <td>0</td>\n",
       "    </tr>\n",
       "    <tr>\n",
       "      <th>2</th>\n",
       "      <td>Onio</td>\n",
       "      <td>502</td>\n",
       "      <td>France</td>\n",
       "      <td>Female</td>\n",
       "      <td>42</td>\n",
       "      <td>8</td>\n",
       "      <td>159660.80</td>\n",
       "      <td>3</td>\n",
       "      <td>1</td>\n",
       "      <td>0</td>\n",
       "      <td>113931.57</td>\n",
       "      <td>1</td>\n",
       "    </tr>\n",
       "    <tr>\n",
       "      <th>3</th>\n",
       "      <td>Boni</td>\n",
       "      <td>699</td>\n",
       "      <td>France</td>\n",
       "      <td>Female</td>\n",
       "      <td>39</td>\n",
       "      <td>1</td>\n",
       "      <td>0.00</td>\n",
       "      <td>2</td>\n",
       "      <td>0</td>\n",
       "      <td>0</td>\n",
       "      <td>93826.63</td>\n",
       "      <td>0</td>\n",
       "    </tr>\n",
       "    <tr>\n",
       "      <th>4</th>\n",
       "      <td>Mitchell</td>\n",
       "      <td>850</td>\n",
       "      <td>Spain</td>\n",
       "      <td>Female</td>\n",
       "      <td>43</td>\n",
       "      <td>2</td>\n",
       "      <td>125510.82</td>\n",
       "      <td>1</td>\n",
       "      <td>1</td>\n",
       "      <td>1</td>\n",
       "      <td>79084.10</td>\n",
       "      <td>0</td>\n",
       "    </tr>\n",
       "    <tr>\n",
       "      <th>...</th>\n",
       "      <td>...</td>\n",
       "      <td>...</td>\n",
       "      <td>...</td>\n",
       "      <td>...</td>\n",
       "      <td>...</td>\n",
       "      <td>...</td>\n",
       "      <td>...</td>\n",
       "      <td>...</td>\n",
       "      <td>...</td>\n",
       "      <td>...</td>\n",
       "      <td>...</td>\n",
       "      <td>...</td>\n",
       "    </tr>\n",
       "    <tr>\n",
       "      <th>9995</th>\n",
       "      <td>Obijiaku</td>\n",
       "      <td>771</td>\n",
       "      <td>France</td>\n",
       "      <td>Male</td>\n",
       "      <td>39</td>\n",
       "      <td>5</td>\n",
       "      <td>0.00</td>\n",
       "      <td>2</td>\n",
       "      <td>1</td>\n",
       "      <td>0</td>\n",
       "      <td>96270.64</td>\n",
       "      <td>0</td>\n",
       "    </tr>\n",
       "    <tr>\n",
       "      <th>9996</th>\n",
       "      <td>Johnstone</td>\n",
       "      <td>516</td>\n",
       "      <td>France</td>\n",
       "      <td>Male</td>\n",
       "      <td>35</td>\n",
       "      <td>10</td>\n",
       "      <td>57369.61</td>\n",
       "      <td>1</td>\n",
       "      <td>1</td>\n",
       "      <td>1</td>\n",
       "      <td>101699.77</td>\n",
       "      <td>0</td>\n",
       "    </tr>\n",
       "    <tr>\n",
       "      <th>9997</th>\n",
       "      <td>Liu</td>\n",
       "      <td>709</td>\n",
       "      <td>France</td>\n",
       "      <td>Female</td>\n",
       "      <td>36</td>\n",
       "      <td>7</td>\n",
       "      <td>0.00</td>\n",
       "      <td>1</td>\n",
       "      <td>0</td>\n",
       "      <td>1</td>\n",
       "      <td>42085.58</td>\n",
       "      <td>1</td>\n",
       "    </tr>\n",
       "    <tr>\n",
       "      <th>9998</th>\n",
       "      <td>Sabbatini</td>\n",
       "      <td>772</td>\n",
       "      <td>Germany</td>\n",
       "      <td>Male</td>\n",
       "      <td>42</td>\n",
       "      <td>3</td>\n",
       "      <td>75075.31</td>\n",
       "      <td>2</td>\n",
       "      <td>1</td>\n",
       "      <td>0</td>\n",
       "      <td>92888.52</td>\n",
       "      <td>1</td>\n",
       "    </tr>\n",
       "    <tr>\n",
       "      <th>9999</th>\n",
       "      <td>Walker</td>\n",
       "      <td>792</td>\n",
       "      <td>France</td>\n",
       "      <td>Female</td>\n",
       "      <td>28</td>\n",
       "      <td>4</td>\n",
       "      <td>130142.79</td>\n",
       "      <td>1</td>\n",
       "      <td>1</td>\n",
       "      <td>0</td>\n",
       "      <td>38190.78</td>\n",
       "      <td>0</td>\n",
       "    </tr>\n",
       "  </tbody>\n",
       "</table>\n",
       "<p>10000 rows × 12 columns</p>\n",
       "</div>"
      ],
      "text/plain": [
       "        Surname  CreditScore Geography  Gender  Age  Tenure    Balance  \\\n",
       "0      Hargrave          619    France  Female   42       2       0.00   \n",
       "1          Hill          608     Spain  Female   41       1   83807.86   \n",
       "2          Onio          502    France  Female   42       8  159660.80   \n",
       "3          Boni          699    France  Female   39       1       0.00   \n",
       "4      Mitchell          850     Spain  Female   43       2  125510.82   \n",
       "...         ...          ...       ...     ...  ...     ...        ...   \n",
       "9995   Obijiaku          771    France    Male   39       5       0.00   \n",
       "9996  Johnstone          516    France    Male   35      10   57369.61   \n",
       "9997        Liu          709    France  Female   36       7       0.00   \n",
       "9998  Sabbatini          772   Germany    Male   42       3   75075.31   \n",
       "9999     Walker          792    France  Female   28       4  130142.79   \n",
       "\n",
       "      NumOfProducts  HasCrCard  IsActiveMember  EstimatedSalary  Exited  \n",
       "0                 1          1               1        101348.88       1  \n",
       "1                 1          0               1        112542.58       0  \n",
       "2                 3          1               0        113931.57       1  \n",
       "3                 2          0               0         93826.63       0  \n",
       "4                 1          1               1         79084.10       0  \n",
       "...             ...        ...             ...              ...     ...  \n",
       "9995              2          1               0         96270.64       0  \n",
       "9996              1          1               1        101699.77       0  \n",
       "9997              1          0               1         42085.58       1  \n",
       "9998              2          1               0         92888.52       1  \n",
       "9999              1          1               0         38190.78       0  \n",
       "\n",
       "[10000 rows x 12 columns]"
      ]
     },
     "execution_count": 40,
     "metadata": {},
     "output_type": "execute_result"
    }
   ],
   "source": [
    "df"
   ]
  },
  {
   "cell_type": "code",
   "execution_count": 41,
   "id": "f4d3d258-1963-41c8-9196-a22790c69dd4",
   "metadata": {},
   "outputs": [
    {
     "data": {
      "text/plain": [
       "Surname            0\n",
       "CreditScore        0\n",
       "Geography          0\n",
       "Gender             0\n",
       "Age                0\n",
       "Tenure             0\n",
       "Balance            0\n",
       "NumOfProducts      0\n",
       "HasCrCard          0\n",
       "IsActiveMember     0\n",
       "EstimatedSalary    0\n",
       "Exited             0\n",
       "dtype: int64"
      ]
     },
     "execution_count": 41,
     "metadata": {},
     "output_type": "execute_result"
    }
   ],
   "source": [
    "df.isnull().sum()"
   ]
  },
  {
   "cell_type": "code",
   "execution_count": 42,
   "id": "e4b1ceea-25a2-4b94-8140-ac093c60715c",
   "metadata": {},
   "outputs": [
    {
     "name": "stdout",
     "output_type": "stream",
     "text": [
      "<class 'pandas.core.frame.DataFrame'>\n",
      "RangeIndex: 10000 entries, 0 to 9999\n",
      "Data columns (total 12 columns):\n",
      " #   Column           Non-Null Count  Dtype  \n",
      "---  ------           --------------  -----  \n",
      " 0   Surname          10000 non-null  object \n",
      " 1   CreditScore      10000 non-null  int64  \n",
      " 2   Geography        10000 non-null  object \n",
      " 3   Gender           10000 non-null  object \n",
      " 4   Age              10000 non-null  int64  \n",
      " 5   Tenure           10000 non-null  int64  \n",
      " 6   Balance          10000 non-null  float64\n",
      " 7   NumOfProducts    10000 non-null  int64  \n",
      " 8   HasCrCard        10000 non-null  int64  \n",
      " 9   IsActiveMember   10000 non-null  int64  \n",
      " 10  EstimatedSalary  10000 non-null  float64\n",
      " 11  Exited           10000 non-null  int64  \n",
      "dtypes: float64(2), int64(7), object(3)\n",
      "memory usage: 937.6+ KB\n"
     ]
    }
   ],
   "source": [
    "df.info()"
   ]
  },
  {
   "cell_type": "code",
   "execution_count": 43,
   "id": "da345d7f-4452-4e2e-be31-5c6fe149d53c",
   "metadata": {},
   "outputs": [
    {
     "data": {
      "text/html": [
       "<div>\n",
       "<style scoped>\n",
       "    .dataframe tbody tr th:only-of-type {\n",
       "        vertical-align: middle;\n",
       "    }\n",
       "\n",
       "    .dataframe tbody tr th {\n",
       "        vertical-align: top;\n",
       "    }\n",
       "\n",
       "    .dataframe thead th {\n",
       "        text-align: right;\n",
       "    }\n",
       "</style>\n",
       "<table border=\"1\" class=\"dataframe\">\n",
       "  <thead>\n",
       "    <tr style=\"text-align: right;\">\n",
       "      <th></th>\n",
       "      <th>CreditScore</th>\n",
       "      <th>Age</th>\n",
       "      <th>Tenure</th>\n",
       "      <th>Balance</th>\n",
       "      <th>NumOfProducts</th>\n",
       "      <th>HasCrCard</th>\n",
       "      <th>IsActiveMember</th>\n",
       "      <th>EstimatedSalary</th>\n",
       "      <th>Exited</th>\n",
       "    </tr>\n",
       "  </thead>\n",
       "  <tbody>\n",
       "    <tr>\n",
       "      <th>count</th>\n",
       "      <td>10000.000000</td>\n",
       "      <td>10000.000000</td>\n",
       "      <td>10000.000000</td>\n",
       "      <td>10000.000000</td>\n",
       "      <td>10000.000000</td>\n",
       "      <td>10000.00000</td>\n",
       "      <td>10000.000000</td>\n",
       "      <td>10000.000000</td>\n",
       "      <td>10000.000000</td>\n",
       "    </tr>\n",
       "    <tr>\n",
       "      <th>mean</th>\n",
       "      <td>650.528800</td>\n",
       "      <td>38.921800</td>\n",
       "      <td>5.012800</td>\n",
       "      <td>76485.889288</td>\n",
       "      <td>1.530200</td>\n",
       "      <td>0.70550</td>\n",
       "      <td>0.515100</td>\n",
       "      <td>100090.239881</td>\n",
       "      <td>0.203700</td>\n",
       "    </tr>\n",
       "    <tr>\n",
       "      <th>std</th>\n",
       "      <td>96.653299</td>\n",
       "      <td>10.487806</td>\n",
       "      <td>2.892174</td>\n",
       "      <td>62397.405202</td>\n",
       "      <td>0.581654</td>\n",
       "      <td>0.45584</td>\n",
       "      <td>0.499797</td>\n",
       "      <td>57510.492818</td>\n",
       "      <td>0.402769</td>\n",
       "    </tr>\n",
       "    <tr>\n",
       "      <th>min</th>\n",
       "      <td>350.000000</td>\n",
       "      <td>18.000000</td>\n",
       "      <td>0.000000</td>\n",
       "      <td>0.000000</td>\n",
       "      <td>1.000000</td>\n",
       "      <td>0.00000</td>\n",
       "      <td>0.000000</td>\n",
       "      <td>11.580000</td>\n",
       "      <td>0.000000</td>\n",
       "    </tr>\n",
       "    <tr>\n",
       "      <th>25%</th>\n",
       "      <td>584.000000</td>\n",
       "      <td>32.000000</td>\n",
       "      <td>3.000000</td>\n",
       "      <td>0.000000</td>\n",
       "      <td>1.000000</td>\n",
       "      <td>0.00000</td>\n",
       "      <td>0.000000</td>\n",
       "      <td>51002.110000</td>\n",
       "      <td>0.000000</td>\n",
       "    </tr>\n",
       "    <tr>\n",
       "      <th>50%</th>\n",
       "      <td>652.000000</td>\n",
       "      <td>37.000000</td>\n",
       "      <td>5.000000</td>\n",
       "      <td>97198.540000</td>\n",
       "      <td>1.000000</td>\n",
       "      <td>1.00000</td>\n",
       "      <td>1.000000</td>\n",
       "      <td>100193.915000</td>\n",
       "      <td>0.000000</td>\n",
       "    </tr>\n",
       "    <tr>\n",
       "      <th>75%</th>\n",
       "      <td>718.000000</td>\n",
       "      <td>44.000000</td>\n",
       "      <td>7.000000</td>\n",
       "      <td>127644.240000</td>\n",
       "      <td>2.000000</td>\n",
       "      <td>1.00000</td>\n",
       "      <td>1.000000</td>\n",
       "      <td>149388.247500</td>\n",
       "      <td>0.000000</td>\n",
       "    </tr>\n",
       "    <tr>\n",
       "      <th>max</th>\n",
       "      <td>850.000000</td>\n",
       "      <td>92.000000</td>\n",
       "      <td>10.000000</td>\n",
       "      <td>250898.090000</td>\n",
       "      <td>4.000000</td>\n",
       "      <td>1.00000</td>\n",
       "      <td>1.000000</td>\n",
       "      <td>199992.480000</td>\n",
       "      <td>1.000000</td>\n",
       "    </tr>\n",
       "  </tbody>\n",
       "</table>\n",
       "</div>"
      ],
      "text/plain": [
       "        CreditScore           Age        Tenure        Balance  NumOfProducts  \\\n",
       "count  10000.000000  10000.000000  10000.000000   10000.000000   10000.000000   \n",
       "mean     650.528800     38.921800      5.012800   76485.889288       1.530200   \n",
       "std       96.653299     10.487806      2.892174   62397.405202       0.581654   \n",
       "min      350.000000     18.000000      0.000000       0.000000       1.000000   \n",
       "25%      584.000000     32.000000      3.000000       0.000000       1.000000   \n",
       "50%      652.000000     37.000000      5.000000   97198.540000       1.000000   \n",
       "75%      718.000000     44.000000      7.000000  127644.240000       2.000000   \n",
       "max      850.000000     92.000000     10.000000  250898.090000       4.000000   \n",
       "\n",
       "         HasCrCard  IsActiveMember  EstimatedSalary        Exited  \n",
       "count  10000.00000    10000.000000     10000.000000  10000.000000  \n",
       "mean       0.70550        0.515100    100090.239881      0.203700  \n",
       "std        0.45584        0.499797     57510.492818      0.402769  \n",
       "min        0.00000        0.000000        11.580000      0.000000  \n",
       "25%        0.00000        0.000000     51002.110000      0.000000  \n",
       "50%        1.00000        1.000000    100193.915000      0.000000  \n",
       "75%        1.00000        1.000000    149388.247500      0.000000  \n",
       "max        1.00000        1.000000    199992.480000      1.000000  "
      ]
     },
     "execution_count": 43,
     "metadata": {},
     "output_type": "execute_result"
    }
   ],
   "source": [
    "df.describe()"
   ]
  },
  {
   "cell_type": "markdown",
   "id": "c2dc0af6-a43c-41ac-9e4d-ae2bfa4e1f12",
   "metadata": {},
   "source": [
    "Let's Analyze and dig more deeper into the data"
   ]
  },
  {
   "cell_type": "markdown",
   "id": "3cef936e-c4c1-4d62-8c7a-e3589a9a994b",
   "metadata": {},
   "source": [
    "What 's total number of exited members?"
   ]
  },
  {
   "cell_type": "code",
   "execution_count": 44,
   "id": "8a245f25-4353-4182-855e-f1c28c2834a7",
   "metadata": {},
   "outputs": [
    {
     "data": {
      "text/plain": [
       "2037"
      ]
     },
     "execution_count": 44,
     "metadata": {},
     "output_type": "execute_result"
    }
   ],
   "source": [
    "df[df['Exited']==1].count().iloc[0]"
   ]
  },
  {
   "cell_type": "code",
   "execution_count": 45,
   "id": "f2c1c5cd-5fc6-4584-b229-e12fc614744b",
   "metadata": {},
   "outputs": [
    {
     "data": {
      "text/plain": [
       "7963"
      ]
     },
     "execution_count": 45,
     "metadata": {},
     "output_type": "execute_result"
    }
   ],
   "source": [
    "df[df['Exited']==0].count().iloc[0]"
   ]
  },
  {
   "cell_type": "code",
   "execution_count": null,
   "id": "d02fd5d8-55b0-4caa-9ca7-acfe34cfecd7",
   "metadata": {},
   "outputs": [],
   "source": []
  },
  {
   "cell_type": "code",
   "execution_count": null,
   "id": "c9a8d1e5-9c4b-48da-8e9b-112c030e4aca",
   "metadata": {},
   "outputs": [],
   "source": []
  },
  {
   "cell_type": "markdown",
   "id": "81b3f8d3-9043-443b-b7d4-8bf4f1c93081",
   "metadata": {},
   "source": [
    "Let's see the avg estimated salary of Exited no."
   ]
  },
  {
   "cell_type": "code",
   "execution_count": 46,
   "id": "e4033965-3ae0-4287-b501-407db14979fc",
   "metadata": {},
   "outputs": [
    {
     "data": {
      "text/plain": [
       "99738.39"
      ]
     },
     "execution_count": 46,
     "metadata": {},
     "output_type": "execute_result"
    }
   ],
   "source": [
    "round(np.average(df[(df['Exited']==0)]['EstimatedSalary']),2)"
   ]
  },
  {
   "cell_type": "code",
   "execution_count": 47,
   "id": "647c2a76-8e64-4fe0-8e68-4bc0d80a38ad",
   "metadata": {},
   "outputs": [
    {
     "data": {
      "text/plain": [
       "101465.68"
      ]
     },
     "execution_count": 47,
     "metadata": {},
     "output_type": "execute_result"
    }
   ],
   "source": [
    "round(np.average(df[(df['Exited']==1)]['EstimatedSalary']),2)"
   ]
  },
  {
   "cell_type": "markdown",
   "id": "6a219c12-6b3c-4044-8f86-a0870edda5b0",
   "metadata": {},
   "source": [
    "It seems that those who churned is worth investigating about though they are very small compared to those who are not churned . That's because their average estimated salaries are more larger than those who are not chuned. But to be more sure, let's investigate their balance in the bank and their credit score"
   ]
  },
  {
   "cell_type": "code",
   "execution_count": 48,
   "id": "cabfe4f0-29d0-424c-800e-e29fd787ccb8",
   "metadata": {},
   "outputs": [
    {
     "data": {
      "text/plain": [
       "645.35"
      ]
     },
     "execution_count": 48,
     "metadata": {},
     "output_type": "execute_result"
    }
   ],
   "source": [
    "round(np.average(df[(df['Exited']==1)]['CreditScore']),2)"
   ]
  },
  {
   "cell_type": "code",
   "execution_count": 49,
   "id": "0ad24c7d-afd0-48fd-9690-0dd78a2927e9",
   "metadata": {},
   "outputs": [
    {
     "data": {
      "text/plain": [
       "651.85"
      ]
     },
     "execution_count": 49,
     "metadata": {},
     "output_type": "execute_result"
    }
   ],
   "source": [
    "round(np.average(df[(df['Exited']==0)]['CreditScore']),2)"
   ]
  },
  {
   "cell_type": "code",
   "execution_count": 50,
   "id": "ed1694cb-af58-4604-9418-cfdb69c7bde7",
   "metadata": {},
   "outputs": [
    {
     "data": {
      "text/plain": [
       "91108.54"
      ]
     },
     "execution_count": 50,
     "metadata": {},
     "output_type": "execute_result"
    }
   ],
   "source": [
    "round(np.average(df[(df['Exited']==1)]['Balance']),2)"
   ]
  },
  {
   "cell_type": "code",
   "execution_count": 51,
   "id": "80831c0c-0127-468e-8f1f-059a539b2949",
   "metadata": {},
   "outputs": [
    {
     "data": {
      "text/plain": [
       "72745.3"
      ]
     },
     "execution_count": 51,
     "metadata": {},
     "output_type": "execute_result"
    }
   ],
   "source": [
    "round(np.average(df[(df['Exited']==0)]['Balance']),2)"
   ]
  },
  {
   "cell_type": "markdown",
   "id": "6ec5ddcf-e2e5-40a4-b99b-934c70aa9788",
   "metadata": {},
   "source": [
    "Hmmm. Those who exited and their balance is high, their credit score is lower than those who have not churned. That may be because credit scores depend on many factors besides balance. But it still remains to be investigated because of two things the salary and the balance cause they are still adding value to the bank."
   ]
  },
  {
   "cell_type": "markdown",
   "id": "b095ce31-da1c-40d3-97e6-0cdc5b6daa3e",
   "metadata": {},
   "source": [
    "So let's see if there are no active member in thoe who churned"
   ]
  },
  {
   "cell_type": "code",
   "execution_count": 52,
   "id": "ae964ab4-9713-4359-baf1-67b1e9519c43",
   "metadata": {},
   "outputs": [
    {
     "data": {
      "text/plain": [
       "1302"
      ]
     },
     "execution_count": 52,
     "metadata": {},
     "output_type": "execute_result"
    }
   ],
   "source": [
    "df[(df['Exited']==1)&(df['IsActiveMember']==0)].count().iloc[0]"
   ]
  },
  {
   "cell_type": "code",
   "execution_count": 53,
   "id": "a2c23328-f2ce-41c4-8ad0-29d5be92cf26",
   "metadata": {},
   "outputs": [
    {
     "data": {
      "text/plain": [
       "735"
      ]
     },
     "execution_count": 53,
     "metadata": {},
     "output_type": "execute_result"
    }
   ],
   "source": [
    "(df[(df['Exited']==1)].count().iloc[0])-(df[(df['Exited']==1)&(df['IsActiveMember']==0)].count().iloc[0])"
   ]
  },
  {
   "cell_type": "code",
   "execution_count": 54,
   "id": "ebd6609f-3993-4ec0-acdb-d2e875bc1961",
   "metadata": {},
   "outputs": [
    {
     "data": {
      "text/plain": [
       "735"
      ]
     },
     "execution_count": 54,
     "metadata": {},
     "output_type": "execute_result"
    }
   ],
   "source": [
    "df[(df['Exited']==1)&(df['IsActiveMember']==1)].count().iloc[0]"
   ]
  },
  {
   "cell_type": "code",
   "execution_count": 55,
   "id": "1b28c917-ad84-4c47-bfb8-7f423ce8e881",
   "metadata": {},
   "outputs": [
    {
     "data": {
      "text/plain": [
       "4416"
      ]
     },
     "execution_count": 55,
     "metadata": {},
     "output_type": "execute_result"
    }
   ],
   "source": [
    "df[(df['Exited']==0)&(df['IsActiveMember']==1)].count().iloc[0]"
   ]
  },
  {
   "cell_type": "code",
   "execution_count": 56,
   "id": "42601d20-0718-46cc-b4a4-98790e8d8c16",
   "metadata": {},
   "outputs": [
    {
     "data": {
      "text/plain": [
       "3547"
      ]
     },
     "execution_count": 56,
     "metadata": {},
     "output_type": "execute_result"
    }
   ],
   "source": [
    "df[(df['Exited']==0)&(df['IsActiveMember']==0)].count().iloc[0]"
   ]
  },
  {
   "cell_type": "markdown",
   "id": "2da23874-a8f0-4f2a-9b0d-66d74921c4c0",
   "metadata": {},
   "source": [
    "It seems that there is a high number of non-active members who have churned. that means that these customers may not add benefits to the bank through their daily transactions but they may add value through bank certificates and those who are not churned but not active members are still big in numbers though they are smaller than those who are not churned and active members So we need more investigation about those types of customers cause they affect bank economy. One of the method we can do is to make offers on using the bank more and make purchases through their bank cards and be active members. But to be sure if they make purchases we need to check the num of products they bought through their bank account."
   ]
  },
  {
   "cell_type": "markdown",
   "id": "c3376b49-5547-4db4-b81b-8c1e9e2cc2ff",
   "metadata": {},
   "source": [
    "SO let's see their salaries and balances . I mean those who are not churned but not active members"
   ]
  },
  {
   "cell_type": "code",
   "execution_count": 57,
   "id": "d75a49f9-c8c6-4c31-b162-89d2ab45a453",
   "metadata": {},
   "outputs": [
    {
     "data": {
      "text/plain": [
       "100342.63"
      ]
     },
     "execution_count": 57,
     "metadata": {},
     "output_type": "execute_result"
    }
   ],
   "source": [
    "round(np.average(df[(df['Exited']==0)&(df['IsActiveMember']==0)]['EstimatedSalary']),2)"
   ]
  },
  {
   "cell_type": "code",
   "execution_count": 58,
   "id": "baf8ddc4-6ffb-4033-94ee-b1e8ae521cda",
   "metadata": {},
   "outputs": [
    {
     "data": {
      "text/plain": [
       "72048.82"
      ]
     },
     "execution_count": 58,
     "metadata": {},
     "output_type": "execute_result"
    }
   ],
   "source": [
    "round(np.average(df[(df['Exited']==0)&(df['IsActiveMember']==0)]['Balance']),2)"
   ]
  },
  {
   "cell_type": "code",
   "execution_count": 59,
   "id": "c8685ff2-9d7e-4574-a90c-e46eed5a5f6c",
   "metadata": {},
   "outputs": [
    {
     "data": {
      "text/plain": [
       "99253.06"
      ]
     },
     "execution_count": 59,
     "metadata": {},
     "output_type": "execute_result"
    }
   ],
   "source": [
    "round(np.average(df[(df['Exited']==0)&(df['IsActiveMember']==1)]['EstimatedSalary']),2)"
   ]
  },
  {
   "cell_type": "code",
   "execution_count": 60,
   "id": "3a42622d-a4ff-49fa-8e58-2de0905102e4",
   "metadata": {},
   "outputs": [
    {
     "data": {
      "text/plain": [
       "73304.72"
      ]
     },
     "execution_count": 60,
     "metadata": {},
     "output_type": "execute_result"
    }
   ],
   "source": [
    "round(np.average(df[(df['Exited']==0)&(df['IsActiveMember']==1)]['Balance']),2)"
   ]
  },
  {
   "cell_type": "markdown",
   "id": "aee26c87-45af-43a1-9b8b-29878a9a8e5b",
   "metadata": {},
   "source": [
    "So let's see those who are not active and are not churned , how many products they made."
   ]
  },
  {
   "cell_type": "code",
   "execution_count": 61,
   "id": "8237aa22-ba2a-4644-8027-cf86fb7d325d",
   "metadata": {},
   "outputs": [
    {
     "data": {
      "text/plain": [
       "1.55"
      ]
     },
     "execution_count": 61,
     "metadata": {},
     "output_type": "execute_result"
    }
   ],
   "source": [
    "round(np.average(df[(df['Exited']==0)&(df['IsActiveMember']==0)]['NumOfProducts']),2)"
   ]
  },
  {
   "cell_type": "markdown",
   "id": "b9ac4aa9-c1dd-49c3-922b-b1450a07592b",
   "metadata": {},
   "source": [
    "But let's see if it is biased or not"
   ]
  },
  {
   "cell_type": "code",
   "execution_count": 62,
   "id": "eabfc516-f110-4ae5-b169-815524c3a9eb",
   "metadata": {},
   "outputs": [
    {
     "data": {
      "text/plain": [
       "2    1932\n",
       "1    1597\n",
       "3      18\n",
       "Name: NumOfProducts, dtype: int64"
      ]
     },
     "execution_count": 62,
     "metadata": {},
     "output_type": "execute_result"
    }
   ],
   "source": [
    "df[(df['Exited']==0)&(df['IsActiveMember']==0)]['NumOfProducts'].value_counts()"
   ]
  },
  {
   "cell_type": "code",
   "execution_count": 63,
   "id": "964a3bb0-9756-449e-83ba-e6ec5787ae05",
   "metadata": {},
   "outputs": [
    {
     "data": {
      "text/plain": [
       "2    2310\n",
       "1    2078\n",
       "3      28\n",
       "Name: NumOfProducts, dtype: int64"
      ]
     },
     "execution_count": 63,
     "metadata": {},
     "output_type": "execute_result"
    }
   ],
   "source": [
    "df[(df['Exited']==0)&(df['IsActiveMember']==1)]['NumOfProducts'].value_counts()"
   ]
  },
  {
   "cell_type": "markdown",
   "id": "51df738b-9d57-4ed1-8fec-6bdc6e4598bb",
   "metadata": {},
   "source": [
    "It seems that they made purchases not too few than those who are active and not churned."
   ]
  },
  {
   "cell_type": "markdown",
   "id": "6ba3c419-b5b7-4387-9878-0e7dac6f67d1",
   "metadata": {},
   "source": [
    "Let's see the tenure score for those who have churned and those who have not"
   ]
  },
  {
   "cell_type": "code",
   "execution_count": 64,
   "id": "1e4b70a7-8ab6-4350-b4b3-b8d3930e0550",
   "metadata": {},
   "outputs": [
    {
     "data": {
      "text/plain": [
       "5.03"
      ]
     },
     "execution_count": 64,
     "metadata": {},
     "output_type": "execute_result"
    }
   ],
   "source": [
    "round(np.average(df[df['Exited']==0]['Tenure']),2)"
   ]
  },
  {
   "cell_type": "code",
   "execution_count": 65,
   "id": "d1eb3d0f-785a-4a7f-a45c-2525f6ceb7ea",
   "metadata": {},
   "outputs": [
    {
     "data": {
      "text/plain": [
       "4.93"
      ]
     },
     "execution_count": 65,
     "metadata": {},
     "output_type": "execute_result"
    }
   ],
   "source": [
    "round(np.average(df[df['Exited']==1]['Tenure']),2)"
   ]
  },
  {
   "cell_type": "markdown",
   "id": "c3c4dffe-827b-4724-a6eb-10f72db2c41b",
   "metadata": {},
   "source": [
    "Well that makes sense since those who have exited must have a tenure score lower than those who have not exited"
   ]
  },
  {
   "cell_type": "code",
   "execution_count": 5,
   "id": "18edbece-2671-4bda-ace8-6349ccc818e6",
   "metadata": {},
   "outputs": [],
   "source": [
    "df=pd.read_csv('Bank_Churn_Modelling.csv')\n",
    "df.drop(['RowNumber','CustomerId'], axis=1, inplace=True)\n",
    "df.drop('Surname',axis=1,inplace=True)\n",
    "\n",
    "\n",
    "df_copy1=df.copy()\n",
    "\n",
    "y=df_copy1['Exited']\n",
    "df_copy1.drop('Exited',axis=1,inplace=True)\n",
    "\n",
    "# en=OneHotEncoder(drop='first')\n",
    "# geographyTransformed=en.fit_transform(df[['Geography','Gender']]).toarray()\n",
    "# geographyTransformed=pd.DataFrame(geographyTransformed,columns=en.get_feature_names_out(input_features=en.feature_names_in_))\n",
    "# df_copy1=pd.concat([df_copy1,geographyTransformed],axis=1).drop(['Geography','Gender'],axis=1)\n",
    "# df_copy=df_copy1.copy()\n",
    "df_copy1.drop(['Geography','Gender'],axis=1,inplace=True)\n",
    "\n",
    "df_copy=df_copy1.copy()\n",
    "scaler=MinMaxScaler()\n",
    "df_copy=pd.DataFrame(scaler.fit_transform(df_copy),columns=scaler.get_feature_names_out(input_features=scaler.feature_names_in_))\n",
    "# with open(\"en.pkl\",\"wb\") as b:\n",
    "#     pickle.dump(en,b)\n",
    "with open(\"scaler.pkl\",\"wb\") as s:\n",
    "    pickle.dump(scaler,s)\n",
    "\n",
    "X=df_copy\n",
    "X_train,X_test,y_train,y_test=train_test_split(X,y,test_size=0.2,random_state=101)\n",
    "xgb=XGBClassifier(n_estimators=13, max_depth=10, learning_rate=1.920, objective='binary:logistic')\n",
    "xgb.fit(X_train,y_train)\n",
    "preds=xgb.predict(X_test)\n",
    "with open(\"model.pkl\", \"wb\") as f:\n",
    "    pickle.dump(xgb, f)\n"
   ]
  },
  {
   "cell_type": "code",
   "execution_count": null,
   "id": "78fa135b-d07e-44cc-8602-bc8dd9bb4a1c",
   "metadata": {},
   "outputs": [
    {
     "name": "stdout",
     "output_type": "stream",
     "text": [
      "Dash is running on http://127.0.0.1:8050/\n",
      "\n",
      " * Serving Flask app '__main__'\n",
      " * Debug mode: off\n"
     ]
    },
    {
     "name": "stderr",
     "output_type": "stream",
     "text": [
      "WARNING: This is a development server. Do not use it in a production deployment. Use a production WSGI server instead.\n",
      " * Running on http://127.0.0.1:8050\n",
      "Press CTRL+C to quit\n",
      "127.0.0.1 - - [25/Dec/2023 23:34:22] \"POST /_dash-update-component HTTP/1.1\" 200 -\n",
      "127.0.0.1 - - [25/Dec/2023 23:34:29] \"POST /_dash-update-component HTTP/1.1\" 200 -\n",
      "127.0.0.1 - - [25/Dec/2023 23:34:36] \"POST /_dash-update-component HTTP/1.1\" 200 -\n",
      "127.0.0.1 - - [25/Dec/2023 23:34:37] \"POST /_dash-update-component HTTP/1.1\" 200 -\n",
      "127.0.0.1 - - [25/Dec/2023 23:34:41] \"POST /_dash-update-component HTTP/1.1\" 200 -\n",
      "127.0.0.1 - - [25/Dec/2023 23:34:42] \"POST /_dash-update-component HTTP/1.1\" 200 -\n",
      "127.0.0.1 - - [25/Dec/2023 23:34:42] \"POST /_dash-update-component HTTP/1.1\" 200 -\n",
      "127.0.0.1 - - [25/Dec/2023 23:34:49] \"POST /_dash-update-component HTTP/1.1\" 200 -\n",
      "127.0.0.1 - - [25/Dec/2023 23:34:49] \"POST /_dash-update-component HTTP/1.1\" 200 -\n",
      "127.0.0.1 - - [25/Dec/2023 23:34:50] \"POST /_dash-update-component HTTP/1.1\" 200 -\n",
      "127.0.0.1 - - [25/Dec/2023 23:34:50] \"POST /_dash-update-component HTTP/1.1\" 200 -\n",
      "127.0.0.1 - - [25/Dec/2023 23:34:50] \"GET /_dash-component-suites/dash/dcc/async-upload.js HTTP/1.1\" 304 -\n",
      "127.0.0.1 - - [25/Dec/2023 23:34:52] \"POST /_dash-update-component HTTP/1.1\" 200 -\n",
      "127.0.0.1 - - [25/Dec/2023 23:34:52] \"POST /_dash-update-component HTTP/1.1\" 200 -\n",
      "127.0.0.1 - - [25/Dec/2023 23:34:54] \"POST /_dash-update-component HTTP/1.1\" 200 -\n",
      "127.0.0.1 - - [25/Dec/2023 23:34:54] \"POST /_dash-update-component HTTP/1.1\" 200 -\n",
      "127.0.0.1 - - [25/Dec/2023 23:34:54] \"POST /_dash-update-component HTTP/1.1\" 200 -\n"
     ]
    }
   ],
   "source": [
    "import dash\n",
    "from dash import dcc,html,Dash\n",
    "from dash import dash_table\n",
    "import base64\n",
    "import datetime\n",
    "import io\n",
    "from dash.dependencies import Input, Output, State\n",
    "import plotly.express as px\n",
    "import plotly.graph_objects as go   \n",
    "import pandas as pd\n",
    "import numpy as np\n",
    "import dash_pivottable\n",
    "import dash_bootstrap_components as dbc\n",
    "from sklearn.preprocessing import OneHotEncoder\n",
    "from sklearn.preprocessing import MinMaxScaler\n",
    "from sklearn.model_selection import train_test_split\n",
    "from sklearn.metrics import classification_report,confusion_matrix\n",
    "from sklearn.neighbors import KNeighborsClassifier\n",
    "from sklearn.linear_model import LogisticRegression\n",
    "from sklearn.tree import DecisionTreeClassifier\n",
    "from sklearn.ensemble import GradientBoostingClassifier\n",
    "from xgboost import XGBClassifier\n",
    "from sklearn.ensemble import HistGradientBoostingClassifier\n",
    "from catboost import CatBoostClassifier\n",
    "from sklearn.svm import SVC\n",
    "from sklearn import tree\n",
    "from sklearn.tree import export_graphviz\n",
    "from graphviz import Source\n",
    "import pickle\n",
    "import cloudpickle\n",
    "\n",
    "\n",
    "app = dash.Dash(__name__, external_stylesheets=[dbc.themes.BOOTSTRAP])\n",
    "server = app.server\n",
    "\n",
    "\n",
    "app.title= 'Bank Customers Churn Dashboard'\n",
    "\n",
    "\n",
    "\n",
    "df=pd.read_csv('Bank_Churn_Modelling.csv')\n",
    "# df.drop(['RowNumber','CustomerId'], axis=1, inplace=True)\n",
    "# df.drop('Surname',axis=1,inplace=True)\n",
    "\n",
    "# df_copy1=df.copy()\n",
    "# en=OneHotEncoder(drop='first')\n",
    "# geographyTransformed=en.fit_transform(df[['Geography','Gender']]).toarray()\n",
    "# geographyTransformed=pd.DataFrame(geographyTransformed,columns=en.get_feature_names_out(input_features=en.feature_names_in_))\n",
    "# df_copy1=pd.concat([df_copy1,geographyTransformed],axis=1).drop(['Geography','Gender'],axis=1)\n",
    "# df_copy=df_copy1.copy()\n",
    "# scaler=MinMaxScaler()\n",
    "# df_copy=pd.DataFrame(scaler.fit_transform(df_copy),columns=scaler.get_feature_names_out(input_features=scaler.feature_names_in_))\n",
    "\n",
    "# X=df_copy.drop('Exited',axis=1)\n",
    "# y=df_copy['Exited']\n",
    "# X_train,X_test,y_train,y_test=train_test_split(X,y,test_size=0.2,random_state=101)\n",
    "# xgb=XGBClassifier(n_estimators=13, max_depth=10, learning_rate=1.920, objective='binary:logistic')\n",
    "# xgb.fit(X_train,y_train)\n",
    "# preds=xgb.predict(X_test)\n",
    "# # with open(\"model.pkl\", \"wb\") as f:\n",
    "# #     pickle.dump(xgb, f)\n",
    "\n",
    "\n",
    "def parse_contents(contents, filename, date):\n",
    "    content_type, content_string = contents.split(',')\n",
    "\n",
    "    decoded = base64.b64decode(content_string)\n",
    "    try:\n",
    "        if 'csv' in filename:\n",
    "        # Assume that the user uploaded a CSV file\n",
    "            df1 = pd.read_csv(\n",
    "                io.StringIO(decoded.decode('utf-8')))\n",
    "        elif 'xls' in filename:\n",
    "        # Assume that the user uploaded an excel file\n",
    "            df1 = pd.read_excel(io.BytesIO(decoded))\n",
    "    except Exception as e:\n",
    "        print(e)\n",
    "        return html.Div([\n",
    "            'There was an error processing this file.'\n",
    "        ])\n",
    "\n",
    "    \n",
    "    en=pickle.load(open('en.pkl','rb'))\n",
    "    scaler=pickle.load(open('scaler.pkl','rb'))\n",
    "    df1.drop(['RowNumber','CustomerId'], axis=1, inplace=True)\n",
    "    df1.drop('Surname',axis=1,inplace=True)\n",
    "    geographyTransformed=en.transform(df1[['Geography','Gender']]).toarray()\n",
    "    geographyTransformed=pd.DataFrame(geographyTransformed,columns=en.get_feature_names_out(input_features=en.feature_names_in_))\n",
    "    df_copy2=pd.concat([df1,geographyTransformed],axis=1).drop(['Geography','Gender'],axis=1)\n",
    "    df_copy3=df_copy2.copy()\n",
    "    df_copy3=pd.DataFrame(scaler.transform(df_copy3),columns=scaler.get_feature_names_out(input_features=scaler.feature_names_in_))\n",
    "    # df_copy3.drop('Exited',axis=1,inplace=True)\n",
    "    model=pickle.load(open(\"model.pkl\", \"rb\"))\n",
    "    return html.Div(model.predict(df_copy3)[0])\n",
    "                    \n",
    "\n",
    "y=html.Div([\n",
    "    html.Div([html.H3(\"How many no. of Exited Customers vs Not Exited Customers\")],style={'text-align':'center','display':'inline-block','width':'100%','font-weight':'900','font-size':'150%','text-color':'#FFFFFF'}),\n",
    "    html.Div([\n",
    "    html.Div([html.H3(\"Exited\",style={'width':'100%','font-weight':'900','font-size':'150%','font-family': '\"Fantasy\", Times, serif'},id=\"tooltip-target1\"),dbc.Tooltip(df[df['Exited']==1].count().iloc[0],style={'display':'inline-block','width':'200%','font-weight':'900','font-size':'150%'},target=\"tooltip-target1\")]),\n",
    "    html.Div([html.H3(\"Not Exited\",style={'width':'100%','font-weight':'900','font-size':'150%','font-family': '\"Fantasy\", Times, serif'},id=\"tooltip-target2\"),dbc.Tooltip(df[df['Exited']==0].count().iloc[0],style={'display':'inline-block','width':'200%','font-weight':'900','font-size':'150%'},target=\"tooltip-target2\")]),\n",
    "],style={'margin-bottom':'20px','margin-left':'35%','padding': '20px','border': '2px solid black','border-radius': '25px','width':'25%','height':'25%','background-color':'#FF5733', 'text-color':'#00FFFF','text-align':'center', 'float':'center'}),\n",
    "\n",
    "html.Div([dcc.Dropdown(id='dropdown1',\n",
    "        options=[\n",
    "        {'label': i, 'value': i} for i in ['Gender','Geography']],\n",
    "    #value=['CreditScore','Tenure','Balance','NumOfProducts','HasCrCard','IsActiveMember','EstimatedSalary','Exited'],\n",
    "    value=['Gender','Geography'],\n",
    "    multi=True,\n",
    "    clearable=False,\n",
    "    searchable=True,),\n",
    "          html.Div([dcc.RadioItems(id='radio',\n",
    "    options=[\n",
    "        {'label': i, 'value': i} for i in ['CreditScore','Tenure','Balance','NumOfProducts','HasCrCard','IsActiveMember','EstimatedSalary','Exited']],\n",
    "    value='CreditScore',style={'font-size':25})]),\n",
    "html.Div(dcc.Graph(id=\"sunburstgraph1\",style={'height':'25'})),\n",
    "],style={'display':'inline-block','width':'100%'}),\n",
    "\n",
    "\n",
    "\n",
    "html.Div([html.H3(\" What do you want to check the exited customers with\",style={'text-align':'center','display':'inline-block','width':'100%','font-weight':'900','font-size':'150%'}), \n",
    "          dcc.Dropdown(id='drop_down2',\n",
    "            options=[\n",
    "                  {'label': i, 'value': i} for i in ['CreditScore','Tenure','Balance','NumOfProducts','HasCrCard','IsActiveMember','EstimatedSalary']\n",
    "            ]),\n",
    "html.Div(dcc.Graph(id=\"piechart1\"))]),\n",
    "]),\n",
    "\n",
    "predict= html.Div([\n",
    "dcc.Upload(\n",
    "        id='upload-data',\n",
    "        children=html.Div([\n",
    "        'Drag and Drop or ',\n",
    "        html.A('Select Files')\n",
    "        ]),\n",
    "        style={\n",
    "        'width': '100%',\n",
    "        'height': '60px',\n",
    "        'lineHeight': '60px',\n",
    "        'borderWidth': '1px',\n",
    "        'borderStyle': 'dashed',\n",
    "        'borderRadius': '5px',\n",
    "        'textAlign': 'center',\n",
    "        'margin': '10px'\n",
    "         },\n",
    "        # Allow multiple files to be uploaded\n",
    "        multiple=False\n",
    "),\n",
    "\n",
    "html.Div(id='output-data-upload'),\n",
    "])\n",
    "\n",
    "\n",
    "predict_choice= html.Div([\n",
    "    html.Div([\n",
    "    dbc.Row([\n",
    "    dbc.Col(dbc.Label(\"RowNumber\", html_for=\"RowNumber\", width=2)),\n",
    "    dbc.Col(dbc.Input(id='RowNumber', type='text',placeholder='Please Enter Random Number', n_submit=0)),   \n",
    "            ]),\n",
    "\n",
    "            dbc.Row([\n",
    "    dbc.Col(dbc.Label(\"CustomerId\", html_for=\"CustomerId\", width=2)),\n",
    "    dbc.Col(dbc.Input(id='CustomerId', type='text',placeholder='Please Enter a Random CustomerId', n_submit=0)),   \n",
    "            ]),\n",
    "\n",
    "                    dbc.Row([\n",
    "    dbc.Col(dbc.Label(\"Surname\", html_for=\"Surname\", width=2)),\n",
    "    dbc.Col(dbc.Input(id='Surname', type='text',placeholder='Please Enter a Surname', n_submit=0)),   \n",
    "            ]),\n",
    "\n",
    "                    dbc.Row([\n",
    "    dbc.Col(dbc.Label(\"CreditScore\", html_for=\"CreditScore\", width=2)),\n",
    "    dbc.Col(dbc.Input(id='CreditScore', type='text',placeholder='Please Enter a CreditScore', n_submit=0)),   \n",
    "            ]),\n",
    "\n",
    "                    dbc.Row([\n",
    "    dbc.Col(dbc.Label(\"Geography\", html_for=\"Geography\", width=2)),\n",
    "    dbc.Col(dbc.Input(id='Geography', type='text',placeholder='Please Enter a Country', n_submit=0)),   \n",
    "            ]),\n",
    "\n",
    "                    dbc.Row([\n",
    "    dbc.Col(dbc.Label(\"Gender\", html_for=\"Gender\", width=2)),\n",
    "    dbc.Col(dbc.Input(id='Gender', type='text',placeholder='Please Enter a Gender', n_submit=0)),   \n",
    "            ]),\n",
    "\n",
    "                    dbc.Row([\n",
    "    dbc.Col(dbc.Label(\"Age\", html_for=\"Age\", width=2)),\n",
    "    dbc.Col(dbc.Input(id='Age', type='text',placeholder='Please Enter an Age', n_submit=0)),   \n",
    "            ]),\n",
    "                            dbc.Row([\n",
    "    dbc.Col(dbc.Label(\"Tenure\", html_for=\"Tenure\", width=2)),\n",
    "    dbc.Col(dbc.Input(id='Tenure', type='text',placeholder='Please Enter a Tenure Score Up to 10', n_submit=0)),   \n",
    "            ]),\n",
    "                            dbc.Row([\n",
    "    dbc.Col(dbc.Label(\"Balance\", html_for=\"Balance\", width=2)),\n",
    "    dbc.Col(dbc.Input(id='Balance', type='text',placeholder='Please Enter a Bank Balance', n_submit=0)),   \n",
    "            ]),\n",
    "                            dbc.Row([\n",
    "    dbc.Col(dbc.Label(\"NumOfProducts\", html_for=\"NumOfProducts\", width=2)),\n",
    "    dbc.Col(dbc.Input(id='NumOfProducts', type='text',placeholder='Please Enter NumOfProducts Up to 4', n_submit=0)),   \n",
    "            ]),\n",
    "                                    dbc.Row([\n",
    "    dbc.Col(dbc.Label(\"HasCrCard\", html_for=\"HasCrCard\", width=2)),\n",
    "    dbc.Col(dbc.Input(id='HasCrCard', type='text',placeholder='Please Enter Has Credit Card Value: 0 or 1 where 0 means No & 1 means Yes', n_submit=0)),   \n",
    "            ]),\n",
    "                                    dbc.Row([\n",
    "    dbc.Col(dbc.Label(\"IsActiveMember\", html_for=\"IsActiveMember\", width=2)),\n",
    "    dbc.Col(dbc.Input(id='IsActiveMember', type='text',placeholder='Please Enter Is Active Member Value: 0 or 1 where 0 means No & 1 means Yes', n_submit=0)),   \n",
    "            ]),\n",
    "                                            dbc.Row([\n",
    "    dbc.Col(dbc.Label(\"EstimatedSalary\", html_for=\"EstimatedSalary\", width=2)),\n",
    "    dbc.Col(dbc.Input(id='EstimatedSalary', type='text',placeholder='Please Enter an EstimatedSalary', n_submit=0)),   \n",
    "            ]),\n",
    "        \n",
    "    dbc.Row([\n",
    "        dbc.Label(\"Exited\", html_for=\"Exited\", width=1),\n",
    "        dbc.Button(\"Predict\",id='Predict', n_clicks=0, color=\"primary\", className=\"me-1\" )]),\n",
    "]),\n",
    "\n",
    "html.Div(id='prediction',style={'text-align':'center','display':'inline-block','width':'100%','font-weight':'900','font-size':'150%'})\n",
    "])\n",
    "\n",
    "\n",
    "app.layout =html.Div([\n",
    "html.Div([html.H4([html.H2('Bank Churned Customers Analysis Dashboard',style={'font-size':'200%'})])],style={'float':'center','width':'98%','height':'100px','text-color':'#00FFFF','background-color':'#FF5733','margin-top':'-20px','padding': '20px','border': '2px solid white','border-radius': '25px',}), \n",
    "    \n",
    "html.Div([\n",
    "    html.H1(''),\n",
    "    dcc.Tabs(id=\"tabs\", value='tab-1', children=[\n",
    "        dcc.Tab(label='Let\\'s Break it For you', value='tab-1'),\n",
    "        dcc.Tab(label='Predict By Uploading CSV File', value='tab-2'),\n",
    "        dcc.Tab(label='Enter Data To Predict', value='tab-3')        \n",
    "        \n",
    "\n",
    "\n",
    "        \n",
    "    ]),\n",
    "    html.Div(id='tabs_output'),\n",
    "]),\n",
    "])\n",
    "\n",
    "\n",
    "@app.callback(\n",
    "Output(\"tabs_output\", \"children\"), \n",
    "Input(\"tabs\", \"value\"))\n",
    "def tabs(value):\n",
    "    if value == 'tab-1':\n",
    "        return y\n",
    "    if value == 'tab-2':\n",
    "        return predict\n",
    "    if value == 'tab-3':\n",
    "        return predict_choice\n",
    "        \n",
    "        \n",
    "@app.callback(\n",
    "Output(\"sunburstgraph1\",\"figure\"),\n",
    "[Input(\"dropdown1\", \"value\"),\n",
    " Input(\"radio\", \"value\")])\n",
    "\n",
    "def sunburstdrop(drop,rad):\n",
    "    if rad=='Tenure':\n",
    "        cust_fig = px.sunburst(df, path=drop,values='Tenure')\n",
    "        cust_fig.update_traces(textinfo='label+percent entry')\n",
    "        return cust_fig\n",
    "    elif rad=='Balance':\n",
    "        cust_fig = px.sunburst(df, path=drop,values='Balance')\n",
    "        cust_fig.update_traces(textinfo='label+percent entry')\n",
    "        return cust_fig\n",
    "    elif rad=='NumOfProducts':\n",
    "        cust_fig = px.sunburst(df, path=drop,values='NumOfProducts')\n",
    "        cust_fig.update_traces(textinfo='label+percent entry')\n",
    "        return cust_fig\n",
    "    elif rad=='HasCrCard':\n",
    "        cust_fig = px.sunburst(df, path=drop,values='HasCrCard')\n",
    "        cust_fig.update_traces(textinfo='label+percent entry')\n",
    "        return cust_fig\n",
    "    elif rad=='IsActiveMember':\n",
    "        cust_fig = px.sunburst(df, path=drop,values='IsActiveMember')\n",
    "        cust_fig.update_traces(textinfo='label+percent entry')\n",
    "        return cust_fig\n",
    "    elif rad=='EstimatedSalary':\n",
    "        cust_fig = px.sunburst(df, path=drop,values='EstimatedSalary')\n",
    "        cust_fig.update_traces(textinfo='label+percent entry')\n",
    "        return cust_fig\n",
    "    elif rad=='Exited':\n",
    "        cust_fig = px.sunburst(df, path=drop,values='Exited')\n",
    "        cust_fig.update_traces(textinfo='label+percent entry')\n",
    "        return cust_fig\n",
    "    else:\n",
    "        cust_fig = px.sunburst(df, path=drop,values='CreditScore')\n",
    "        cust_fig.update_traces(textinfo='label+percent entry')\n",
    "        return cust_fig\n",
    "@app.callback(\n",
    "Output(\"barradio\",\"figure\"),\n",
    "Input(\"radio\", \"value\"))\n",
    "def barradio(radio1):\n",
    "    if radio1=='Gender':\n",
    "        fig_hist=px.bar(df, x=\"Gender\", y=\"Exited\", color='Exited', title=\"Exited To Gender\")\n",
    "        fig_hist.update_layout(font_size=19)\n",
    "        return fig_hist\n",
    "    elif radio1=='Geography':\n",
    "        fig_hist=px.bar(df, x=\"Geography\", y=\"Exited\", color='Gender', title=\"Exited To Geography\")\n",
    "        fig_hist.update_layout(font_size=19)\n",
    "        return fig_hist\n",
    "\n",
    "@app.callback(\n",
    "Output(\"piechart1\", \"figure\"),\n",
    "Input(\"drop_down2\", \"value\"))\n",
    "def piedrop(value1):\n",
    "    if value1=='CreditScore':\n",
    "        fig_hist=px.histogram(df, color=\"Exited\", x=\"CreditScore\")\n",
    "        fig_hist.update_layout(font_size=19)\n",
    "        return fig_hist\n",
    "    elif value1=='Tenure':\n",
    "        fig_hist=px.histogram(df, color=\"Exited\", x=\"Tenure\")\n",
    "        fig_hist.update_layout(font_size=19)\n",
    "        return fig_hist\n",
    "    elif value1=='Balance':\n",
    "        fig_hist=px.histogram(df, color=\"Exited\", x=\"Balance\")\n",
    "        fig_hist.update_layout(font_size=19)\n",
    "        return fig_hist\n",
    "    elif value1=='NumOfProducts':\n",
    "        fig_hist=px.histogram(df, color=\"Exited\", x=\"NumOfProducts\")\n",
    "        fig_hist.update_layout(font_size=19)\n",
    "        return fig_hist\n",
    "    elif value1=='HasCrCard':\n",
    "        fig_hist=px.histogram(df, color=\"Exited\", x=\"HasCrCard\")\n",
    "        fig_hist.update_layout(font_size=19)\n",
    "        return fig_hist\n",
    "    elif value1=='IsActiveMember':\n",
    "        fig_hist=px.histogram(df, color=\"Exited\", x=\"IsActiveMember\")\n",
    "        fig_hist.update_layout(font_size=19)\n",
    "        return fig_hist\n",
    "    elif value1=='EstimatedSalary':\n",
    "        fig_hist=px.histogram(df, color=\"Exited\", x=\"EstimatedSalary\")\n",
    "        fig_hist.update_layout(font_size=19)\n",
    "        return fig_hist\n",
    "    else:\n",
    "        fig_hist=px.histogram(df, color=\"Exited\", x=\"Exited\")\n",
    "        fig_hist.update_layout(font_size=19)\n",
    "        return fig_hist\n",
    "        \n",
    "@app.callback(Output('output-data-upload', 'children'),\n",
    "              [Input('upload-data', 'contents')],\n",
    "              [State('upload-data', 'filename'),\n",
    "               State('upload-data', 'last_modified')])\n",
    "def update_output(list_of_contents, list_of_names, list_of_dates):\n",
    "    if list_of_contents is not None:\n",
    "        children = [parse_contents(list_of_contents, list_of_names, list_of_dates)] \n",
    "        return children\n",
    "\n",
    "@app.callback(Output('prediction', 'children'),\n",
    "           Input('Predict', 'n_clicks'),\n",
    "           [State('RowNumber', 'value'),\n",
    "           State('CustomerId', 'value'),\n",
    "           State('Surname', 'value'),\n",
    "           State('CreditScore', 'value'),\n",
    "           State('Geography', 'value'),\n",
    "           State('Gender', 'value'),\n",
    "           State('Age', 'value'),\n",
    "           State('Tenure', 'value'),\n",
    "           State('Balance', 'value'),\n",
    "           State('NumOfProducts', 'value'),\n",
    "           State('HasCrCard', 'value'),\n",
    "           State('IsActiveMember', 'value'),\n",
    "           State('EstimatedSalary', 'value')],)\n",
    "             #prevent_initial_call=True,)\n",
    "def update_output(n_clicks,RowNumber, CustomerId, Surname, CreditScore, Geography, Gender, Age, Tenure, Balance, NumOfProducts, HasCrCard, IsActiveMember, EstimatedSalary):\n",
    "    # en=pickle.load(open('en.pkl','rb'))\n",
    "    scaler=pickle.load(open('scaler.pkl','rb'))\n",
    "    list_of_contents1=[RowNumber, CustomerId, Surname, CreditScore, Geography, Gender, Age, Tenure, Balance, NumOfProducts, HasCrCard, IsActiveMember, EstimatedSalary]\n",
    "    list_of_contents1=pd.Series(list_of_contents1)\n",
    "    pd.options.mode.use_inf_as_na = True\n",
    "\n",
    "    # dk=df.copy()\n",
    "    # dk.drop('Exited',axis=1, inplace=True)\n",
    "    # d= pd.DataFrame(list_of_contents1, columns=[dk.columns]).reset_index(drop = True)\n",
    "\n",
    "    # list_of_contents1.reset_index(drop=True, inplace=True)\n",
    "    d= pd.DataFrame([list_of_contents1],columns=['RowNumber', 'CustomerId', 'Surname', 'CreditScore', 'Geography', 'Gender', 'Age', 'Tenure', 'Balance', 'NumOfProducts', 'HasCrCard', 'IsActiveMember', 'EstimatedSalary'])\n",
    "    \n",
    "    # d.reset_index(drop=True, inplace=True)\n",
    "    # df2= pd.DataFrame(list_of_contents1, columns=['RowNumber', 'CustomerId', 'Surname', 'CreditScore', 'Geography', 'Gender', 'Age', 'Tenure', 'Balance', 'NumOfProducts', 'HasCrCard', 'IsActiveMember', 'EstimatedSalary'])\n",
    "    if not RowNumber and not CustomerId and not Surname and not CreditScore and not Geography and not Gender and not Age and not Tenure and not Balance and not NumOfProducts and not HasCrCard and not IsActiveMember and not EstimatedSalary:\n",
    "        return None\n",
    "    else:\n",
    "        d.drop(['RowNumber','CustomerId'], axis=1, inplace=True)\n",
    "        d.drop('Surname',axis=1,inplace=True)\n",
    "        #geographyTransformed=en.transform(d[['Geography','Gender']]).toarray()\n",
    "        #geographyTransformed=pd.DataFrame(geographyTransformed,columns=en.get_feature_names_out(input_features=en.feature_names_in_))\n",
    "        #df_copy2=pd.concat([d,geographyTransformed],axis=1).drop(['Geography','Gender'],axis=1)\n",
    "        #df_copy3=df_copy2.copy()\n",
    "        d.drop(['Geography','Gender'], axis=1, inplace=True)\n",
    "        df_copy3=d.copy()\n",
    "        df_copy3=pd.DataFrame(scaler.transform(df_copy3),columns=scaler.get_feature_names_out(input_features=scaler.feature_names_in_))\n",
    "        # df_copy3['Surname']=df_copy3['Surname'].astype(float) # cause of the np.nan error we have to convert to float before entering it to the model\n",
    "        # df_copy3['Geography']=df_copy3['Geography'].astype(float)\n",
    "        # df_copy3['Gender']=df_copy3['Gender'].astype(float)\n",
    "        # df_copy3=df_copy3.astype(float, errors='ignore')\n",
    "        # df_copy3.drop('Exited',axis=1,inplace=True)\n",
    "        model=pickle.load(open(\"model.pkl\", \"rb\"))\n",
    "        return html.Div(model.predict(df_copy3))\n",
    "        # return df_copy3.to_json()\n",
    "        \n",
    "        \n",
    "if __name__ == '__main__':\n",
    "    app.run_server(debug=False)\n",
    "\n"
   ]
  },
  {
   "cell_type": "code",
   "execution_count": null,
   "id": "a4dbb4cf-1693-4a30-acba-234eb1f38cfb",
   "metadata": {},
   "outputs": [],
   "source": []
  }
 ],
 "metadata": {
  "kernelspec": {
   "display_name": "Python 3 (ipykernel)",
   "language": "python",
   "name": "python3"
  },
  "language_info": {
   "codemirror_mode": {
    "name": "ipython",
    "version": 3
   },
   "file_extension": ".py",
   "mimetype": "text/x-python",
   "name": "python",
   "nbconvert_exporter": "python",
   "pygments_lexer": "ipython3",
   "version": "3.10.6"
  }
 },
 "nbformat": 4,
 "nbformat_minor": 5
}
